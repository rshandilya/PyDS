{
 "cells": [
  {
   "cell_type": "markdown",
   "metadata": {},
   "source": [
    "# Weekend Project 2"
   ]
  },
  {
   "cell_type": "markdown",
   "metadata": {},
   "source": [
    "you have to make one of the three project listed here:\n",
    "\n",
    "1. Given the initial velocity and angle animate the falling ball trajecory under free fall of gravity. Use Numpy and Matplotlib only for this.\n",
    "\n",
    "                               OR\n",
    "2. Make a simple python module for composing music using Numpy and use scipy module to record and play it.\n",
    "\n",
    "                               OR\n",
    "\n",
    "3. Demonstrate Fourier Series by animation for generating  square wave using sum of first few sinosuidal signal of proper amplitute and phase difference."
   ]
  }
 ],
 "metadata": {
  "kernelspec": {
   "display_name": "Python 3",
   "language": "python",
   "name": "python3"
  },
  "language_info": {
   "codemirror_mode": {
    "name": "ipython",
    "version": 3
   },
   "file_extension": ".py",
   "mimetype": "text/x-python",
   "name": "python",
   "nbconvert_exporter": "python",
   "pygments_lexer": "ipython3",
   "version": "3.7.2"
  }
 },
 "nbformat": 4,
 "nbformat_minor": 2
}
