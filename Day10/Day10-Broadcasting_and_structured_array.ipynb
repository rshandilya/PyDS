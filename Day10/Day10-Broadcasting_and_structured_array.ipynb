{
 "cells": [
  {
   "cell_type": "code",
   "execution_count": 10,
   "metadata": {},
   "outputs": [],
   "source": [
    "import numpy as np"
   ]
  },
  {
   "cell_type": "markdown",
   "metadata": {},
   "source": [
    "### Copies or Views of Objects"
   ]
  },
  {
   "cell_type": "code",
   "execution_count": 11,
   "metadata": {},
   "outputs": [
    {
     "data": {
      "text/plain": [
       "array([1, 2, 3, 4])"
      ]
     },
     "execution_count": 11,
     "metadata": {},
     "output_type": "execute_result"
    }
   ],
   "source": [
    "a = np.array([1, 2, 3, 4])\n",
    "b = a  # Assignment do not create copy\n",
    "b"
   ]
  },
  {
   "cell_type": "code",
   "execution_count": 12,
   "metadata": {},
   "outputs": [
    {
     "data": {
      "text/plain": [
       "array([1, 2, 0, 4])"
      ]
     },
     "execution_count": 12,
     "metadata": {},
     "output_type": "execute_result"
    }
   ],
   "source": [
    "a[2] = 0\n",
    "b"
   ]
  },
  {
   "cell_type": "code",
   "execution_count": 13,
   "metadata": {},
   "outputs": [
    {
     "data": {
      "text/plain": [
       "array([1, 2])"
      ]
     },
     "execution_count": 13,
     "metadata": {},
     "output_type": "execute_result"
    }
   ],
   "source": [
    "c = a[0:2]   # return a view of the object\n",
    "c"
   ]
  },
  {
   "cell_type": "code",
   "execution_count": 14,
   "metadata": {},
   "outputs": [
    {
     "data": {
      "text/plain": [
       "array([0, 2])"
      ]
     },
     "execution_count": 14,
     "metadata": {},
     "output_type": "execute_result"
    }
   ],
   "source": [
    "a[0] = 0\n",
    "c"
   ]
  },
  {
   "cell_type": "code",
   "execution_count": 15,
   "metadata": {},
   "outputs": [
    {
     "data": {
      "text/plain": [
       "array([1, 2, 3, 4])"
      ]
     },
     "execution_count": 15,
     "metadata": {},
     "output_type": "execute_result"
    }
   ],
   "source": [
    "a = np.array([1, 2, 3, 4])\n",
    "c = a.copy()                # to generate complete distinct object.\n",
    "a[0] = 0\n",
    "c"
   ]
  },
  {
   "cell_type": "markdown",
   "metadata": {},
   "source": [
    "### Vectorization"
   ]
  },
  {
   "cell_type": "markdown",
   "metadata": {},
   "source": [
    "Numpy expression\n",
    "```python\n",
    "a * b   # vector multiplication\n",
    "A * B   # Matrix Multiplication\n",
    "```\n",
    "\n",
    "Using C language.\n",
    "\n",
    "```c\n",
    "\\vector product\n",
    "for (i = 0; i < rows; i++){\n",
    "c[i] = a[i]*b[i];\n",
    "}\n",
    "```\n",
    "```c\n",
    "\\Matrix product\n",
    "for( i=0; i < rows; i++){\n",
    "    for(j=0; j < columns; j++){\n",
    "    c[i][j] = a[i][j]*b[i][j];\n",
    "    }\n",
    "}\n",
    "```"
   ]
  },
  {
   "cell_type": "markdown",
   "metadata": {},
   "source": [
    "### Broadcasting\n",
    "\n",
    "Broadcasting allows an operator or a function to act on two or more arrays to operate\n",
    "even if these arrays do not have the same shape. That said, not all the dimensions can be subjected to broadcasting; they must meet *certain rules*.\n",
    "\n",
    "Two arrays can be subjected to broadcasting when all their dimensions are\n",
    "compatible, i.e., the length of each dimension must be equal or one of them must be\n",
    "equal to 1. If neither of these conditions is met, you get an exception that states that the two arrays are not compatible.\n",
    "\n",
    "There are **two rules of broadcasting**.\n",
    "\n",
    "* First you must add a 1 to each missing dimension. \n",
    "* The second rule assumes that the missing elements (size, length 1) are filled with replicas of the values contained in extended sizes \n"
   ]
  },
  {
   "cell_type": "code",
   "execution_count": 16,
   "metadata": {},
   "outputs": [
    {
     "data": {
      "text/plain": [
       "array([[ 0,  1,  2,  3],\n",
       "       [ 4,  5,  6,  7],\n",
       "       [ 8,  9, 10, 11],\n",
       "       [12, 13, 14, 15]])"
      ]
     },
     "execution_count": 16,
     "metadata": {},
     "output_type": "execute_result"
    }
   ],
   "source": [
    "A = np.arange(16).reshape(4, 4)\n",
    "b = np.arange(4)\n",
    "A"
   ]
  },
  {
   "cell_type": "code",
   "execution_count": 17,
   "metadata": {},
   "outputs": [
    {
     "data": {
      "text/plain": [
       "array([0, 1, 2, 3])"
      ]
     },
     "execution_count": 17,
     "metadata": {},
     "output_type": "execute_result"
    }
   ],
   "source": [
    "b"
   ]
  },
  {
   "cell_type": "code",
   "execution_count": 18,
   "metadata": {},
   "outputs": [
    {
     "data": {
      "text/plain": [
       "array([[ 0,  2,  4,  6],\n",
       "       [ 4,  6,  8, 10],\n",
       "       [ 8, 10, 12, 14],\n",
       "       [12, 14, 16, 18]])"
      ]
     },
     "execution_count": 18,
     "metadata": {},
     "output_type": "execute_result"
    }
   ],
   "source": [
    "A + b"
   ]
  },
  {
   "cell_type": "markdown",
   "metadata": {},
   "source": [
    "From rule1:\n",
    "\n",
    "A: $4 \\times 4$\n",
    "\n",
    "b: $4 \\times 1$\n",
    "\n",
    "From rule2:\n",
    "\n",
    "<img src=\"img/day10_1.png\" width=\"450\"/>"
   ]
  },
  {
   "cell_type": "code",
   "execution_count": 20,
   "metadata": {},
   "outputs": [
    {
     "data": {
      "text/plain": [
       "array([[[0, 1]],\n",
       "\n",
       "       [[2, 3]],\n",
       "\n",
       "       [[4, 5]]])"
      ]
     },
     "execution_count": 20,
     "metadata": {},
     "output_type": "execute_result"
    }
   ],
   "source": [
    "m = np.arange(6).reshape(3, 1, 2)\n",
    "n = np.arange(6).reshape(3, 2, 1)\n",
    "m"
   ]
  },
  {
   "cell_type": "code",
   "execution_count": 21,
   "metadata": {},
   "outputs": [
    {
     "data": {
      "text/plain": [
       "array([[[0],\n",
       "        [1]],\n",
       "\n",
       "       [[2],\n",
       "        [3]],\n",
       "\n",
       "       [[4],\n",
       "        [5]]])"
      ]
     },
     "execution_count": 21,
     "metadata": {},
     "output_type": "execute_result"
    }
   ],
   "source": [
    "n"
   ]
  },
  {
   "cell_type": "code",
   "execution_count": 22,
   "metadata": {},
   "outputs": [
    {
     "data": {
      "text/plain": [
       "array([[[ 0,  1],\n",
       "        [ 1,  2]],\n",
       "\n",
       "       [[ 4,  5],\n",
       "        [ 5,  6]],\n",
       "\n",
       "       [[ 8,  9],\n",
       "        [ 9, 10]]])"
      ]
     },
     "execution_count": 22,
     "metadata": {},
     "output_type": "execute_result"
    }
   ],
   "source": [
    "m + n"
   ]
  },
  {
   "cell_type": "markdown",
   "metadata": {},
   "source": [
    "From rule1:\n",
    "\n",
    "m: $3 \\times 1 \\times 2$\n",
    "\n",
    "n: $3 \\times 2 \\times 1$\n",
    "\n",
    "From rule2:\n",
    "\n",
    "<img src=\"img/day10_2.png\" width=\"350\"/>"
   ]
  },
  {
   "cell_type": "markdown",
   "metadata": {},
   "source": [
    "### Structured Arrays\n",
    "\n",
    "NumPy allows you to create arrays that are much more complex not only in size, but in the structure, called **structured arrays**. This type of array contains structs or records instead of individual items.\n",
    "\n",
    "**Numpy dtypes:**\n",
    "\n",
    "<img src=\"img/day10_3.png\" width=\"350\"/>"
   ]
  },
  {
   "cell_type": "code",
   "execution_count": 23,
   "metadata": {},
   "outputs": [
    {
     "data": {
      "text/plain": [
       "array([(1, b'First', 0.5, 1.+2.j), (2, b'Second', 1.3, 2.-2.j),\n",
       "       (3, b'Third', 0.8, 1.+3.j)],\n",
       "      dtype=[('f0', '<i2'), ('f1', 'S6'), ('f2', '<f4'), ('f3', '<c8')])"
      ]
     },
     "execution_count": 23,
     "metadata": {},
     "output_type": "execute_result"
    }
   ],
   "source": [
    "structured = np.array([(1, 'First', 0.5, 1+2j),\n",
    "                       (2, 'Second', 1.3, 2-2j), \n",
    "                       (3, 'Third', 0.8, 1+3j)],\n",
    "                      dtype=('i2, a6, f4, c8'))\n",
    "structured"
   ]
  },
  {
   "cell_type": "code",
   "execution_count": 24,
   "metadata": {},
   "outputs": [
    {
     "data": {
      "text/plain": [
       "array([(1, b'First', 0.5, 1.+2.j), (2, b'Second', 1.3, 2.-2.j),\n",
       "       (3, b'Third', 0.8, 1.+3.j)],\n",
       "      dtype=[('f0', '<i2'), ('f1', 'S6'), ('f2', '<f4'), ('f3', '<c8')])"
      ]
     },
     "execution_count": 24,
     "metadata": {},
     "output_type": "execute_result"
    }
   ],
   "source": [
    "structured = np.array([(1, 'First', 0.5, 1+2j),\n",
    "                       (2, 'Second', 1.3,2-2j),\n",
    "                       (3, 'Third', 0.8, 1+3j)],\n",
    "                      dtype=('int16, a6, float32, complex64'))\n",
    "structured"
   ]
  },
  {
   "cell_type": "code",
   "execution_count": 25,
   "metadata": {},
   "outputs": [
    {
     "data": {
      "text/plain": [
       "(2, b'Second', 1.3, 2.-2.j)"
      ]
     },
     "execution_count": 25,
     "metadata": {},
     "output_type": "execute_result"
    }
   ],
   "source": [
    "structured[1]"
   ]
  },
  {
   "cell_type": "code",
   "execution_count": 26,
   "metadata": {},
   "outputs": [
    {
     "data": {
      "text/plain": [
       "array([b'First', b'Second', b'Third'], dtype='|S6')"
      ]
     },
     "execution_count": 26,
     "metadata": {},
     "output_type": "execute_result"
    }
   ],
   "source": [
    "structured['f1']"
   ]
  },
  {
   "cell_type": "code",
   "execution_count": 28,
   "metadata": {},
   "outputs": [
    {
     "data": {
      "text/plain": [
       "array([(1, b'First', 0.5, 1.+2.j), (2, b'Second', 1.3, 2.-2.j),\n",
       "       (3, b'Third', 0.8, 1.+3.j)],\n",
       "      dtype=[('id', '<i2'), ('position', 'S6'), ('value', '<f4'), ('complex', '<c8')])"
      ]
     },
     "execution_count": 28,
     "metadata": {},
     "output_type": "execute_result"
    }
   ],
   "source": [
    "structured = np.array([(1,'First',0.5,1+2j),\n",
    "                       (2,'Second',1.3,2-2j),\n",
    "                       (3,'Third',0.8,1+3j)],\n",
    "                      dtype=[('id','i2'),\n",
    "                             ('position','a6'),\n",
    "                             ('value','f4'),\n",
    "                             ('complex','c8')])\n",
    "structured"
   ]
  },
  {
   "cell_type": "code",
   "execution_count": 30,
   "metadata": {},
   "outputs": [],
   "source": [
    "structured.dtype.names = ('id','order','value','complex')"
   ]
  },
  {
   "cell_type": "code",
   "execution_count": 31,
   "metadata": {},
   "outputs": [
    {
     "data": {
      "text/plain": [
       "array([b'First', b'Second', b'Third'], dtype='|S6')"
      ]
     },
     "execution_count": 31,
     "metadata": {},
     "output_type": "execute_result"
    }
   ],
   "source": [
    "structured['order']"
   ]
  },
  {
   "cell_type": "markdown",
   "metadata": {},
   "source": [
    "# Plotting\n",
    "### Histogram"
   ]
  },
  {
   "cell_type": "code",
   "execution_count": 32,
   "metadata": {},
   "outputs": [],
   "source": [
    "import matplotlib.pyplot as plt"
   ]
  },
  {
   "cell_type": "code",
   "execution_count": 34,
   "metadata": {},
   "outputs": [],
   "source": [
    "a = np.random.rand(50)"
   ]
  },
  {
   "cell_type": "code",
   "execution_count": 36,
   "metadata": {},
   "outputs": [
    {
     "data": {
      "image/png": "[encoded data removed]",
      "text/plain": [
       "<Figure size 432x288 with 1 Axes>"
      ]
     },
     "metadata": {
      "needs_background": "light"
     },
     "output_type": "display_data"
    }
   ],
   "source": [
    "#plt.hist(a)\n",
    "plt.hist(a,25) # setting number of bins to 25\n",
    "plt.show()"
   ]
  },
  {
   "cell_type": "markdown",
   "metadata": {},
   "source": [
    "### Bar Chart"
   ]
  },
  {
   "cell_type": "code",
   "execution_count": 39,
   "metadata": {},
   "outputs": [
    {
     "data": {
      "image/png": "[encoded data removed]",
      "text/plain": [
       "<Figure size 432x288 with 1 Axes>"
      ]
     },
     "metadata": {
      "needs_background": "light"
     },
     "output_type": "display_data"
    }
   ],
   "source": [
    "x = np.array([1,2,3,4,5,6,7,8,9,0])\n",
    "y = np.array([1,4,2,3,4,5,7,6,8,7])\n",
    "#plt.bar(x, y)\n",
    "plt.barh(x, y)\n",
    "plt.title('Vertical Bar chart')\n",
    "plt.xlabel('$x$')\n",
    "plt.ylabel('$y$')\n",
    "plt.show()"
   ]
  },
  {
   "cell_type": "markdown",
   "metadata": {},
   "source": [
    "### Pie chart"
   ]
  },
  {
   "cell_type": "code",
   "execution_count": 40,
   "metadata": {},
   "outputs": [
    {
     "data": {
      "image/png": "[encoded data removed]",
      "text/plain": [
       "<Figure size 432x288 with 1 Axes>"
      ]
     },
     "metadata": {},
     "output_type": "display_data"
    }
   ],
   "source": [
    "x = np.array([1,2,3,4,5,6,7,8,9,0])\n",
    "label = ['a','b','c','d','e','f','g','h','i','j']\n",
    "explode = [0.2, 0.1, 0.5, 0, 0, 0.3, 0.3, 0.2, 0.1,0]\n",
    "plt.pie(x, labels=label, explode = explode, shadow=True, autopct ='%2.2f%%')\n",
    "plt.title('Pie Chart')\n",
    "plt.show()"
   ]
  }
 ],
 "metadata": {
  "kernelspec": {
   "display_name": "Python 3",
   "language": "python",
   "name": "python3"
  },
  "language_info": {
   "codemirror_mode": {
    "name": "ipython",
    "version": 3
   },
   "file_extension": ".py",
   "mimetype": "text/x-python",
   "name": "python",
   "nbconvert_exporter": "python",
   "pygments_lexer": "ipython3",
   "version": "3.7.2"
  }
 },
 "nbformat": 4,
 "nbformat_minor": 2
}
